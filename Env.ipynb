{
 "cells": [
  {
   "cell_type": "markdown",
   "metadata": {},
   "source": [
    "### Importar datos"
   ]
  },
  {
   "cell_type": "code",
   "execution_count": 26,
   "metadata": {},
   "outputs": [],
   "source": [
    "import pandas as pd\n",
    "FILE = \"cleaned.csv\"\n",
    "COINS = [\"DASH\",\"LTC\",\"STR\"]\n",
    "COLS = ['high', 'low', 'open', 'close', 'volume', 'quoteVolume','weightedAverage']\n",
    "SCOLS = [\"vh\",\"vl\",\"vc\",\"open_s\",\"volume_s\",\"quoteVolume_s\",\"weightedAverage_s\"]\n",
    "OBS_COLS = ['vh', 'vl', 'vc', 'open_s', 'volume_s', 'quoteVolume_s', 'weightedAverage_s', 'vh_roll_7', 'vh_roll_14', 'vh_roll_30', 'vl_roll_7', 'vl_roll_14', 'vl_roll_30', 'vc_roll_7', 'vc_roll_14', 'vc_roll_30', 'open_s_roll_7', 'open_s_roll_14', 'open_s_roll_30', 'volume_s_roll_7', 'volume_s_roll_14', 'volume_s_roll_30', 'quoteVolume_s_roll_7', 'quoteVolume_s_roll_14', 'quoteVolume_s_roll_30', 'weightedAverage_s_roll_7', 'weightedAverage_s_roll_14', 'weightedAverage_s_roll_30']\n",
    "\n",
    "\n",
    "EPISODE_LENGTH = 500"
   ]
  },
  {
   "cell_type": "code",
   "execution_count": null,
   "metadata": {},
   "outputs": [],
   "source": [
    "df = pd.read_csv(FILE)\n",
    "\n",
    "        \n",
    "df[\"date\"] = df[\"date\"].apply(lambda x: pd.Timestamp(x, unit='s', tz='US/Pacific'))\n",
    "df = df[df[\"coin\"].isin(COINS)].sort_values(\"date\")\n",
    "df[\"vh\"] = df[\"high\"]/df[\"open\"]\n",
    "df[\"vl\"] = df[\"low\"]/df[\"open\"]\n",
    "df[\"vc\"] = df[\"close\"]/df[\"open\"]\n",
    "df[\"open_s\"] = df.groupby(\"coin\")[\"open\"].apply(lambda x: x - x.shift(1))\n",
    "df[\"volume_s\"] = df.groupby(\"coin\")[\"volume\"].apply(lambda x: x - x.shift(1))\n",
    "df[\"quoteVolume_s\"] = df.groupby(\"coin\")[\"quoteVolume\"].apply(lambda x: x - x.shift(1))\n",
    "df[\"weightedAverage_s\"] = df.groupby(\"coin\")[\"weightedAverage\"].apply(lambda x: x - x.shift(1))\n",
    "\n",
    "new_cols = []"
   ]
  },
  {
   "cell_type": "code",
   "execution_count": null,
   "metadata": {},
   "outputs": [],
   "source": [
    "for col in SCOLS:\n",
    "    print(col)\n",
    "    df[col+\"_roll_7\"] = df.groupby(\"coin\")[col].apply(lambda x: x.rolling(7).mean().bfill())\n",
    "    new_cols.append(col+\"_roll_7\")\n",
    "    df[col+\"_roll_14\"] = df.groupby(\"coin\")[col].apply(lambda x: x.rolling(14).mean().bfill())\n",
    "    new_cols.append(col+\"_roll_14\")\n",
    "    df[col+\"_roll_30\"] = df.groupby(\"coin\")[col].apply(lambda x: x.rolling(30).mean().bfill())\n",
    "    new_cols.append(col+\"_roll_30\")\n",
    "    \n",
    "SCOLS.extend(new_cols)\n",
    "print(SCOLS)\n",
    "\n",
    "df.to_csv(\"cleaned_preprocessed.csv\")"
   ]
  },
  {
   "cell_type": "markdown",
   "metadata": {},
   "source": [
    "### Creación de ambiente"
   ]
  },
  {
   "cell_type": "code",
   "execution_count": 18,
   "metadata": {},
   "outputs": [],
   "source": [
    "import gym\n",
    "from collections import namedtuple\n",
    "import numpy as np\n",
    "from torch.utils.tensorboard import SummaryWriter\n",
    "\n",
    "import torch\n",
    "import torch.nn as nn\n",
    "import torch.optim as optim\n"
   ]
  },
  {
   "cell_type": "code",
   "execution_count": 27,
   "metadata": {},
   "outputs": [],
   "source": [
    "import tensorflow as tf\n",
    "import numpy as np\n",
    "import pandas as pd\n",
    "import os\n",
    "import matplotlib.pyplot as plt\n",
    "from sklearn import preprocessing\n",
    "from tqdm import tqdm\n"
   ]
  },
  {
   "cell_type": "code",
   "execution_count": 20,
   "metadata": {},
   "outputs": [],
   "source": [
    "import gym\n",
    "\n",
    "class Env:\n",
    "    def __init__(self, env=\"CartPole-v0\"):\n",
    "        self.env = gym.make(env)\n",
    "    \n",
    "    def step(self, action):\n",
    "        return self.env.step(action)\n",
    "    \n",
    "    def reset(self):\n",
    "        return self.env.reset()\n",
    "    \n",
    "    @property\n",
    "    def observation_space(self):\n",
    "        return self.env.observation_space\n",
    "    \n",
    "    @property\n",
    "    def action_space(self):\n",
    "        return self.env.action_space"
   ]
  },
  {
   "cell_type": "code",
   "execution_count": 10,
   "metadata": {},
   "outputs": [],
   "source": [
    "class CardGameEnv:\n",
    "\n",
    "    def __init__(self, env=\"CartPole-v0\"):\n",
    "        self._action_spec = array_spec.BoundedArraySpec(\n",
    "            (len(config.COINS)+1,), np.float64, minimum=0, maximum=1, name='action')\n",
    "        self._observation_spec = array_spec.BoundedArraySpec(\n",
    "            shape=(len(config.OBS_COLS),), dtype=np.float64, minimum=config.OBS_COLS_MIN,\\\n",
    "                maximum=config.OBS_COLS_MAX,\\\n",
    "                     name='observation')\n",
    "        self.reset()\n",
    "        self._episode_ended = False\n",
    "        \n",
    "def action_spec(self):\n",
    "        return self._action_spec\n",
    "\n",
    "    def observation_spec(self):\n",
    "        return self._observation_spec        "
   ]
  },
  {
   "cell_type": "code",
   "execution_count": null,
   "metadata": {},
   "outputs": [],
   "source": []
  }
 ],
 "metadata": {
  "kernelspec": {
   "display_name": "Python 3",
   "language": "python",
   "name": "python3"
  },
  "language_info": {
   "codemirror_mode": {
    "name": "ipython",
    "version": 3
   },
   "file_extension": ".py",
   "mimetype": "text/x-python",
   "name": "python",
   "nbconvert_exporter": "python",
   "pygments_lexer": "ipython3",
   "version": "3.8.5"
  }
 },
 "nbformat": 4,
 "nbformat_minor": 4
}
